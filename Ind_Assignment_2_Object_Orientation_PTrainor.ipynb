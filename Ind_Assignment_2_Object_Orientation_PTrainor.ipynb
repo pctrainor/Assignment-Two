{
 "cells": [
  {
   "cell_type": "markdown",
   "metadata": {},
   "source": [
    "# Introduction to Object-Oriented Programming (OOP) Assignment\n",
    "\n",
    "Welcome to your second individual assignment, where we delve into the fundamental concepts of Object-Oriented Programming (OOP) in Python. In this assignment, you will embark on a journey to transform how you think about solving problems in Python—shifting from a procedural approach to one that models real-world entities and their interactions as objects.\n",
    "\n",
    "## Why OOP?\n",
    "\n",
    "Object-Oriented Programming is a powerful paradigm that allows developers to structure software in a way that is both modular and scalable. By thinking in terms of objects, you can create systems that are easier to understand, maintain, and extend. In this assignment, you will not only learn how to create and manipulate objects in Python, but you will also explore how these objects can be organized into classes, how they can inherit and extend behaviors, and how you can leverage design patterns to solve common problems efficiently.\n",
    "\n",
    "## What You Will Learn\n",
    "\n",
    "By the end of this assignment, you will have achieved the following:\n",
    "\n",
    "1. **Mastered OOP Fundamentals**: You'll start with the basics of classes and objects, understanding how they serve as the building blocks of Python programs.\n",
    "2. **Developed Object-Oriented Thinking**: You will practice designing systems that encapsulate functionality within objects, thinking about how these objects interact to perform tasks.\n",
    "3. **Explored OOP Design Patterns**: You will be introduced to common design patterns that solve recurring problems in software design, enhancing your ability to write clean and reusable code.\n",
    "4. **Applied Advanced OOP Techniques**: Finally, you will implement more advanced concepts like inheritance, polymorphism, and abstraction, solidifying your understanding of how to create robust, scalable systems.\n",
    "\n",
    "## The Importance of Practice\n",
    "\n",
    "As you work through the tasks in this assignment, remember that OOP is not just about writing code—it's about modeling the complexities of the real world in a way that is both intuitive and powerful. The exercises are designed to help you think critically about how to structure your code and apply best practices that will serve you well in this course and beyond.\n",
    "\n",
    "## Let’s Get Started\n",
    "\n",
    "Take your time to explore each concept and exercise, and don't hesitate to revisit the materials provided in class if you need a refresher. This assignment is a key step in your journey towards becoming proficient in Python and OOP, so embrace the challenge and enjoy the process of learning!\n"
   ]
  },
  {
   "cell_type": "markdown",
   "metadata": {},
   "source": [
    "# Try it– Developing Classes and Manipulating Objects\n",
    "\n",
    "The objective of this assignment is to provide you with hands-on experience in creating and manipulating objects in Python using object-oriented programming concepts. You will gain proficiency in defining classes, creating instances, setting attributes, and implementing methods.\n",
    "\n",
    "This first step is to create the **class** - a definition of what an **object** of that class will look like.  The class is a blueprint for the object.  The object is the actual instance of the class that you will be working with.  Classes define the attributes (data) and methods (functions) that the object will have.  \n",
    "\n",
    "So just like we have an idea of what a car is, we can define a class for a car that has attributes like *make*, *model*, *year*, and *color*, and methods like *start*, *stop*, and *drive*.  The object is the actual instance of the class that has specific values for those attributes, in this case the actual car in my driveway, a 2015 Honda Civic, white.\n",
    "\n",
    "## Step 1 - Object Instantiation\n",
    "Here we are going to play around with creating instances of the class (```Person```) that have been defined for you and then manipulating them after they are created."
   ]
  },
  {
   "cell_type": "code",
   "execution_count": 2,
   "metadata": {},
   "outputs": [],
   "source": [
    "# This module contains the People class, which is used to create a list of people and the different types of people in our system\n",
    "# Create a class called Person which is the base class from which other classes will inherit.\n",
    "class Person:\n",
    "\n",
    "    # Creating the properties of the Person class\n",
    "    # Notice that _id is a protected property, \n",
    "    #   this means that it can only be accessed by the Person class and any classes that inherit from it\n",
    "    _id = 0\n",
    "    first_name = \"\"\n",
    "    last_name = \"\"\n",
    "    \n",
    "    # A person has an ID, first name and last name \n",
    "    def __init__(self, id, first_name, last_name):\n",
    "        # We are using the set_id method to set the id property of the person\n",
    "        #  this ensures that all the checks we setup are run when we create a new person\n",
    "        self.id = id\n",
    "        self.first_name = first_name\n",
    "        self.last_name = last_name\n",
    "    \n",
    "    # The id property is a unique identifier for each person\n",
    "    # You may have noticed that we are using a getter and setter for the id property\n",
    "    #  this is because we want to ensure that the id is always a positive integer\n",
    "    def get_id(self):\n",
    "        return self.id\n",
    "    \n",
    "    # The setter for the id property.  This ensure we can do checks before accepting the value\n",
    "    def set_id(self, id):\n",
    "        # Check if the id is a positive integer, if not raise an exception\n",
    "        if id < 0:\n",
    "            raise ValueError(\"ID must be a positive integer\")\n",
    "        self.id = id\n"
   ]
  },
  {
   "cell_type": "markdown",
   "metadata": {},
   "source": [
    "Now that we have defined the class ```Person```, we can create instances of this class, also known as objects. Each object will represent a specific person with a first name, last name, and age."
   ]
  },
  {
   "cell_type": "code",
   "execution_count": 3,
   "metadata": {},
   "outputs": [
    {
     "name": "stdout",
     "output_type": "stream",
     "text": [
      "<__main__.Person object at 0x0000026A851F7860>\n"
     ]
    }
   ],
   "source": [
    "# Create a new person object\n",
    "p = Person(1, \"John\", \"Doe\")\n",
    "print(p)"
   ]
  },
  {
   "cell_type": "markdown",
   "metadata": {},
   "source": [
    "You'll notice that when we ```print``` the object we get some nasty output.  This is because we haven't defined a ```__str__``` method in the class.  We'll discuss how we would fix this later in the assignment."
   ]
  },
  {
   "cell_type": "code",
   "execution_count": 4,
   "metadata": {},
   "outputs": [
    {
     "name": "stdout",
     "output_type": "stream",
     "text": [
      "Our person object's first name is: John\n",
      "Our person object's last name is: Doe\n"
     ]
    }
   ],
   "source": [
    "# Let's look at some of their details\n",
    "print(f\"Our person object's first name is: {p.first_name}\")\n",
    "print(f\"Our person object's last name is: {p.last_name}\")"
   ]
  },
  {
   "cell_type": "code",
   "execution_count": 5,
   "metadata": {},
   "outputs": [
    {
     "name": "stdout",
     "output_type": "stream",
     "text": [
      "Our person object's ID is:  1\n",
      "Our person object's ID is:  1\n"
     ]
    }
   ],
   "source": [
    "# We can use the getter method if we like...\n",
    "print(\"Our person object's ID is: \", p.get_id())\n",
    "# .. but it is not necessary\n",
    "print(\"Our person object's ID is: \", p.id)"
   ]
  },
  {
   "cell_type": "code",
   "execution_count": 6,
   "metadata": {},
   "outputs": [],
   "source": [
    "# We can also use the setter method to change the id\n",
    "p.set_id(2)\n",
    "# But also, it isn't necessary - Python will call the set_id method for us\n",
    "p.id = 3"
   ]
  },
  {
   "cell_type": "markdown",
   "metadata": {},
   "source": [
    "In this next block try setting the value of id to something other than 1.  What happens?  Why?"
   ]
  },
  {
   "cell_type": "code",
   "execution_count": 7,
   "metadata": {},
   "outputs": [
    {
     "ename": "ValueError",
     "evalue": "ID must be a positive integer",
     "output_type": "error",
     "traceback": [
      "\u001b[1;31m---------------------------------------------------------------------------\u001b[0m",
      "\u001b[1;31mValueError\u001b[0m                                Traceback (most recent call last)",
      "Cell \u001b[1;32mIn[7], line 4\u001b[0m\n\u001b[0;32m      1\u001b[0m \u001b[38;5;66;03m# You try setting the id to something other than a positive integer \u001b[39;00m\n\u001b[0;32m      2\u001b[0m \u001b[38;5;66;03m# Original code -> p.id = -1\u001b[39;00m\n\u001b[0;32m      3\u001b[0m \u001b[38;5;66;03m# Now I used the set_id method to check input \u001b[39;00m\n\u001b[1;32m----> 4\u001b[0m \u001b[43mp\u001b[49m\u001b[38;5;241;43m.\u001b[39;49m\u001b[43mset_id\u001b[49m\u001b[43m(\u001b[49m\u001b[38;5;241;43m-\u001b[39;49m\u001b[38;5;241;43m1\u001b[39;49m\u001b[43m)\u001b[49m\n\u001b[0;32m      5\u001b[0m \u001b[38;5;66;03m# You should get an error message\u001b[39;00m\n\u001b[0;32m      6\u001b[0m \u001b[38;5;66;03m# This is because our code in the setter method checks that the id is a positive integer\u001b[39;00m\n",
      "Cell \u001b[1;32mIn[2], line 30\u001b[0m, in \u001b[0;36mPerson.set_id\u001b[1;34m(self, id)\u001b[0m\n\u001b[0;32m     27\u001b[0m \u001b[38;5;28;01mdef\u001b[39;00m \u001b[38;5;21mset_id\u001b[39m(\u001b[38;5;28mself\u001b[39m, \u001b[38;5;28mid\u001b[39m):\n\u001b[0;32m     28\u001b[0m     \u001b[38;5;66;03m# Check if the id is a positive integer, if not raise an exception\u001b[39;00m\n\u001b[0;32m     29\u001b[0m     \u001b[38;5;28;01mif\u001b[39;00m \u001b[38;5;28mid\u001b[39m \u001b[38;5;241m<\u001b[39m \u001b[38;5;241m0\u001b[39m:\n\u001b[1;32m---> 30\u001b[0m         \u001b[38;5;28;01mraise\u001b[39;00m \u001b[38;5;167;01mValueError\u001b[39;00m(\u001b[38;5;124m\"\u001b[39m\u001b[38;5;124mID must be a positive integer\u001b[39m\u001b[38;5;124m\"\u001b[39m)\n\u001b[0;32m     31\u001b[0m     \u001b[38;5;28mself\u001b[39m\u001b[38;5;241m.\u001b[39mid \u001b[38;5;241m=\u001b[39m \u001b[38;5;28mid\u001b[39m\n",
      "\u001b[1;31mValueError\u001b[0m: ID must be a positive integer"
     ]
    }
   ],
   "source": [
    "# You try setting the id to something other than a positive integer \n",
    "# Original code -> p.id = -1\n",
    "# Now I used the set_id method to check input \n",
    "p.set_id(-1)\n",
    "# You should get an error message\n",
    "# This is because our code in the setter method checks that the id is a positive integer"
   ]
  },
  {
   "cell_type": "markdown",
   "metadata": {},
   "source": [
    "## __str__ and __repr__ methods\n",
    "Notice above when we `print(p)` how it showed something like `<__main__.Person object at 0x7f567c7caf10>`.  This is telling us that there is an object here and the memory address at which the object of type `Person` is stored.  This is quite ugly.  \n",
    "\n",
    "We can improve this if we like by overriding one or both of the methods `__str__` and `__repr__` (these are auto-inherited from the default base Class `object` provided by Python).\n",
    "\n",
    "`__str__()` is used to provide a human readable string representation of the object.  It's called automatically whenever you use the `print()` or `str()` methods.  Though keep in mind, if you loop through an array of objects, you are not really printing the object, instead you are getting the representation of the object.\n",
    "\n",
    "`__repr__()` is used to provide an unambigious representation of the object.  By default it returns the ugly string you've seen above `<__main__.Person object at ...`.  It is helpful for debugging, but if you want to make sure that whenever you print or otherwise output a representation of your object it is pretty, you can override this method.\n",
    "\n",
    "To avoid confusion, I have left out pretty representations of the classes that we have developed, but you are welcome to implement them in your classes if you like."
   ]
  },
  {
   "cell_type": "markdown",
   "metadata": {},
   "source": [
    "### Your Turn - Part 1\n",
    "The next cell shows how to use the class we created above.  Remember a class is a blueprint, a container of sorts, which has spots for all the data we want to store about a particular \"thing\" (in this case, the thing is a person.)  We can fill in the data about the \"thing\" when we create an instance of the the thing (using a special function called a constructor ```__init__```) or we can set these values after we create the person."
   ]
  },
  {
   "cell_type": "code",
   "execution_count": 8,
   "metadata": {},
   "outputs": [
    {
     "name": "stdout",
     "output_type": "stream",
     "text": [
      "ID: 1\n",
      "First Name: John\n",
      "Last Name: Smith\n"
     ]
    }
   ],
   "source": [
    "# Create a person called John Smith\n",
    "new_person = Person(1,\"John\", \"Smith\")\n",
    "# Print out the person's details:\n",
    "#  Print the person's ID\n",
    "print(\"ID:\", new_person.id)\n",
    "#  Print the person's first name\n",
    "print(\"First Name:\", new_person.first_name)\n",
    "#  Print the person's last name\n",
    "print(\"Last Name:\", new_person.last_name)"
   ]
  },
  {
   "cell_type": "markdown",
   "metadata": {},
   "source": [
    "Following the comments below, create a new person object (an instance of the Person class), print their details, change their name and print their details again.\n",
    "\n",
    "**_Note_: You can break this up into as many cells as you find helpful**"
   ]
  },
  {
   "cell_type": "code",
   "execution_count": 9,
   "metadata": {},
   "outputs": [
    {
     "name": "stdout",
     "output_type": "stream",
     "text": [
      "ID: 2\n",
      "First Name: Susan\n",
      "Last Name: Jones\n"
     ]
    }
   ],
   "source": [
    "new_person2 = Person(2, \"Susan\", \"Jones\")\n",
    "# Print out Susan's details:\n",
    "#  Print the Susan's ID\n",
    "print(\"ID:\", new_person2.id)\n",
    "#  Print the Susan's first name\n",
    "print(\"First Name:\", new_person2.first_name)\n",
    "#  Print the Susan's last name\n",
    "print(\"Last Name:\", new_person2.last_name)"
   ]
  },
  {
   "cell_type": "markdown",
   "metadata": {},
   "source": [
    "Susan and John decided to get married and so Susan changed her last name.  Update the object with Susan's information to reflect her new name.  (Don't create a new object, just update the current one)"
   ]
  },
  {
   "cell_type": "code",
   "execution_count": 10,
   "metadata": {},
   "outputs": [
    {
     "name": "stdout",
     "output_type": "stream",
     "text": [
      "ID: 2\n",
      "First Name: Susan\n",
      "Last Name: Smith-Jones\n"
     ]
    }
   ],
   "source": [
    "# Change the person's last name to Smith-Jones\n",
    "new_person2.last_name = \"Smith-Jones\"\n",
    "# Print out the person's details again\n",
    "#  Print the Susan's ID\n",
    "print(\"ID:\", new_person2.id)\n",
    "#  Print the Susan's first name\n",
    "print(\"First Name:\", new_person2.first_name)\n",
    "#  Print the Susan's last name\n",
    "print(\"Last Name:\", new_person2.last_name)"
   ]
  },
  {
   "cell_type": "markdown",
   "metadata": {},
   "source": [
    "## Step 2 - Class inheritance\n",
    "Inheritance is a powerful feature of object-oriented programming that allows you to define a new class based on an existing class. The new class, known as a subclass, inherits attributes and methods from the existing class, known as a superclass. This allows you to reuse code and create a hierarchy of classes that model real-world relationships.  For instance, we could have a class `Person` and a subclass `Student` that inherits from `Person`.  The `Student` class would have all the attributes and methods of the `Person` class, but could also have additional attributes and methods that are specific to a student.  Let's see how this works.\n",
    "\n",
    "Now we are going to get a little more specific and define `Instructor`, which is a special kind of `Person` that happens to teach `Course(s)` at our university.  The following code snippet defines the `Instructor` class and the `Course` class.\n",
    "\n",
    "`Instructor` has the following attributes:\n",
    "- `first_name` (inherits from Person)\n",
    "- `last_name` (inherits from Person)\n",
    "- `id` (inherits from Person)\n",
    "- `courses` (a list of courses the instructor teaches)\n",
    "- `first_year_teaching` (the first year the instructor started teaching at the university)\n",
    "\n",
    "\n",
    "**NOTE**: While not required by syntax, it is a good practice to capitalize the first letter of each word in a class name.  It's helpful to differentiate classes from variables and functions which are typically lowercase.\n",
    "**NOTE2**: In Python, we can \"hide\" attributes by prepending them with an underscore. This is a convention to let other developers know that they should not be directly accessed.  Instead, we should use a method to access or modify these attributes.  This is a form of encapsulation, which is a key concept in OOP.  You see in the instructor class `_courses_teaching`, we don't want users of the class manipulating this list directly, but rather we want them to use the `add_course()`, `remove_course()`, `get_courses()` functions instead."
   ]
  },
  {
   "cell_type": "code",
   "execution_count": 11,
   "metadata": {},
   "outputs": [],
   "source": [
    "# Create a class called course\n",
    "# A course is a class that a student can take and an instructor can teach\n",
    "class Course:\n",
    "    # We are going to set the properties to default values\n",
    "    # since we don't have any special logic to apply these properties when they are accessed or assigned\n",
    "    # we don't need to create getters and setters for them\n",
    "    course_number = 0\n",
    "    course_name = \"\"\n",
    "    description = \"\"\n",
    "    department = \"\"\n",
    "    credits = 0\n",
    "\n",
    "    # A course has a course ID, course name, description, department and credits\n",
    "    def __init__(self, course_number, course_name, description, department, credits):\n",
    "        self.credits = credits\n",
    "        self.course_number = course_number\n",
    "        self.course_name = course_name\n",
    "        self.description = description\n",
    "        self.department = department\n",
    "        \n",
    "    # The course number is a unique identifier for each course which must be greater than 0\n",
    "    # Also, at the UofA the last number in the course number is the number of credits\n",
    "    def set_course_number(self, course_number):\n",
    "        if course_number < 0:\n",
    "            raise ValueError(\"Course number must be a positive integer\")\n",
    "        # Checking the last digit of the course number is the number of credits\n",
    "        if course_number % 10 != self.credits:\n",
    "            raise ValueError(\"The last digit of the course number must be the number of credits\")\n",
    "        self.course_number = course_number\n",
    "    \n",
    "    # The course ID is a combination of the department and course number\n",
    "    # It can't be set directly, but can be retrieved\n",
    "    def get_course_id(self):\n",
    "        return f'{self.department}{self.course_number}'\n",
    "    \n",
    "\n",
    "# Create a class called Instructor which inherits from the Person class\n",
    "# An instructor is a person who teaches one or more courses\n",
    "class Instructor(Person):\n",
    "    # We are going to set the properties to default values\n",
    "    # We want to ensure that someone doesn't accidentally change the value of the courses_teaching property\n",
    "    #  so we are going to make it a protected property\n",
    "    _courses_teaching = []\n",
    "    _first_year_teaching = 1950\n",
    "\n",
    "    # An instructor has an ID, first name, last name, and first year teaching\n",
    "    def __init__(self, id, first_name, last_name, first_year_teaching):\n",
    "        # Initialize the Person class\n",
    "        super().__init__(id, first_name, last_name)\n",
    "        self.first_year_teaching = first_year_teaching\n",
    "\n",
    "    # Build a property for the first year teaching\n",
    "    def get_first_year_teaching(self):\n",
    "        return self._first_year_teaching\n",
    "    \n",
    "    def set_first_year_teaching(self, first_year_teaching):\n",
    "        # We will check to ensure that the first year teaching is after 1950\n",
    "        if first_year_teaching < 1950:\n",
    "            raise ValueError(\"First year teaching must be a positive integer after 1950\")\n",
    "        self._first_year_teaching = first_year_teaching\n",
    "    \n",
    "    # An instructor can teach a course\n",
    "    def add_course(self, course):\n",
    "        self._courses_teaching.append(course)\n",
    "\n",
    "    # An instructor can stop teaching a course\n",
    "    def remove_course(self, course):\n",
    "        self._courses_teaching.remove(course)\n",
    "\n",
    "    # An instructor can get a list of courses they are teaching\n",
    "    def get_courses(self):\n",
    "        return self._courses_teaching"
   ]
  },
  {
   "cell_type": "markdown",
   "metadata": {},
   "source": [
    "Notice we have added a property (```courses```) and a few methods for dealing with the courses ```add_course()```, ```remove_course()```.  Again, since we have created only a **getter** for the ```courses``` property, there is no way to set the ```courses``` property directly.\n",
    "\n",
    "```python\n",
    "    new_instructor = Instructor('James', 'Beam',2020)\n",
    "    # This will return an error\n",
    "    new_instructor.courses = []\n",
    "```"
   ]
  },
  {
   "cell_type": "code",
   "execution_count": 12,
   "metadata": {},
   "outputs": [
    {
     "name": "stdout",
     "output_type": "stream",
     "text": [
      "<__main__.Course object at 0x0000026A856A7440>\n",
      "Introduction to Programming\n",
      "----------\n",
      "ISYS1234\n",
      "This course introduces students to programming\n",
      "credits: 3\n",
      "\n",
      "<__main__.Course object at 0x0000026A856A7800>\n",
      "Advanced Programming\n",
      "----------\n",
      "ISYS5713\n",
      "This course introduces students to advanced programming\n",
      "credits: 3\n"
     ]
    }
   ],
   "source": [
    "isys_1234 = Course(1234, \"Introduction to Programming\", \"This course introduces students to programming\", \"ISYS\", 3)\n",
    "isys_5713 = Course(course_number=5713, \n",
    "                   course_name=\"Advanced Programming\", \n",
    "                   description=\"This course introduces students to advanced programming\", \n",
    "                   department=\"ISYS\",\n",
    "                   credits= 3)\n",
    "# Get the default representation of the course\n",
    "print(isys_1234)\n",
    "# Print the details associated with the course\n",
    "print(isys_1234.course_name)\n",
    "print('----------')\n",
    "print(f'{isys_1234.department}{isys_1234.course_number}')\n",
    "print(isys_1234.description)\n",
    "print(f'credits: {isys_1234.credits}')\n",
    "print()\n",
    "\n",
    "# Get the default representation of the course\n",
    "print(isys_5713)\n",
    "print(isys_5713.course_name)\n",
    "print('----------')\n",
    "print(f'{isys_5713.department}{isys_5713.course_number}')\n",
    "print(isys_5713.description)\n",
    "print(f'credits: {isys_5713.credits}')"
   ]
  },
  {
   "cell_type": "markdown",
   "metadata": {},
   "source": [
    "### Your Turn #2\n",
    "Define a new instructor according to the code comments below and follow the steps as outlined.  You should use as many notebook cells as you like (for instance, you may prefer to create one cell for each modification, showing the before and after at each step)."
   ]
  },
  {
   "cell_type": "code",
   "execution_count": 13,
   "metadata": {},
   "outputs": [],
   "source": [
    "# Create an instructor called Alex Abbott , he started teaching in 2015 and teaches ISYS1234\n",
    "new_instructor2 = Instructor(2, 'Alex', 'Abbott', 2015)\n",
    "new_instructor2.add_course(isys_1234)\n",
    "# Print out the courses the instructor is teaching (include the number, name, description and department)\n",
    "# Remove a course for the instructor to teach\n",
    "# Print out the courses the instructor is teaching (include the number, name, description and department)"
   ]
  },
  {
   "cell_type": "code",
   "execution_count": 14,
   "metadata": {},
   "outputs": [
    {
     "name": "stdout",
     "output_type": "stream",
     "text": [
      "Name (first last): Alex Abbott\n",
      "First Year Teaching: 2015\n"
     ]
    }
   ],
   "source": [
    "# Print out the instructor's details\n",
    "print(f'Name (first last): {new_instructor2.first_name} {new_instructor2.last_name}')\n",
    "print(f'First Year Teaching: {new_instructor2.first_year_teaching}')"
   ]
  },
  {
   "cell_type": "code",
   "execution_count": 15,
   "metadata": {},
   "outputs": [
    {
     "name": "stdout",
     "output_type": "stream",
     "text": [
      "Introduction to Programming\n",
      "----------\n",
      "ISYS1234\n",
      "This course introduces students to programming\n",
      "\n"
     ]
    }
   ],
   "source": [
    "# Print out the courses the instructor is teaching (include the number, name, description and department)\n",
    "for course in new_instructor2.get_courses():\n",
    "    print(course.course_name)\n",
    "    print('----------')\n",
    "    print(f'{course.department}{course.course_number}')\n",
    "    print(course.description)\n",
    "    print()"
   ]
  },
  {
   "cell_type": "code",
   "execution_count": 16,
   "metadata": {},
   "outputs": [],
   "source": [
    "# Add course to instructor courseload.\n",
    "course_to_add = isys_5713\n",
    "new_instructor2.add_course(course_to_add)"
   ]
  },
  {
   "cell_type": "code",
   "execution_count": 17,
   "metadata": {},
   "outputs": [
    {
     "name": "stdout",
     "output_type": "stream",
     "text": [
      "Successfully removed: Introduction to Programming ISYS 1234\n",
      "----------\n"
     ]
    }
   ],
   "source": [
    "# Remove a course for the instructor to teach\n",
    "# Receive course as input\n",
    "course_to_remove = isys_1234\n",
    "\n",
    "# Try to remove course from new_instructor2, and throw error if not possible\n",
    "#try:\n",
    "new_instructor2.remove_course(course_to_remove)\n",
    "print(f'Successfully removed:', course_to_remove.course_name,course_to_remove.department, course_to_remove.course_number)\n",
    "print('----------')          \n",
    "#except:\n",
    "    #print( f'{course_to_remove.department}{course_to_remove.course_number} not currently taught by instructor {new_instructor2.first_name} {new_instructor2.last_name}')"
   ]
  },
  {
   "cell_type": "code",
   "execution_count": 18,
   "metadata": {},
   "outputs": [
    {
     "name": "stdout",
     "output_type": "stream",
     "text": [
      "Advanced Programming\n",
      "----------\n",
      "ISYS5713\n",
      "This course introduces students to advanced programming\n",
      "\n"
     ]
    }
   ],
   "source": [
    "# Print out the courses the instructor is teaching (include the number, name, description and department)\n",
    "for course in new_instructor2.get_courses():\n",
    "    print(course.course_name)\n",
    "    print('----------')\n",
    "    print(f'{course.department}{course.course_number}')\n",
    "    print(course.description)\n",
    "    print()"
   ]
  },
  {
   "cell_type": "markdown",
   "metadata": {},
   "source": [
    "## Step 3 - Creating new classes\n",
    "Now it's time to venture out on your own.  Here you should create a `Student` class.  `Student`s are a special type of `Person`.  They are similar to `Instructor`s in that they also have `Course`s, but they also have some unique features like `grade point averages`.  They don't have a year they began teaching, so we can't inherit from the `Instructor` class, but like the `Instructor` class, we should have a way to add and remove courses from the student's schedule without manipulating the list directly.\n",
    "\n",
    "### Your Turn #3\n",
    "1. Create a `Student` class.  It should be a subclass of `Person`, but also have a list of courses they are currently taking and a current grade point average (int)\n",
    "2. Create a `Student` object for a student called _Susan Smartinez_, you can choose her GPA and which courses she is taking\n",
    "3. Add a course, remove a course, and update her GPA.  Show the results of each step along the way.\n",
    "\n",
    "***For extra credit, modify the student class to keep track of the grade for each course and the semester it was taken***\n",
    "\n",
    "**HINT**: You could consider replacing the course list with a dictionary instead, with the key of the dictionary being the course number and the value being the grade.  This would allow you to keep track of the grade for each course."
   ]
  },
  {
   "cell_type": "code",
   "execution_count": 19,
   "metadata": {},
   "outputs": [],
   "source": [
    "# STEP 1: Create a class called Student which inherits from the Person class\n",
    "# A student is a person who is taking one or more courses and has a GPA\n",
    "class Student(Person):\n",
    "    # We are going to set the properties to default values\n",
    "    _course_results = []\n",
    "    _courses_taking = []\n",
    "    _gpa = 0.0\n",
    "\n",
    "    # A student has an ID, first name, last name, and gpa\n",
    "    def __init__(self, id, first_name, last_name, gpa):\n",
    "        # Initialize the Person class\n",
    "        super().__init__(id, first_name, last_name)\n",
    "        self._courses_taking = []\n",
    "        self.gpa = gpa\n",
    "\n",
    "    # Returns gpa\n",
    "    def get_gpa(self):\n",
    "        return self.gpa\n",
    "    \n",
    "    # Sets gpa\n",
    "    def set_gpa(self, gpa):\n",
    "        # Check to ensure that the gpa is a non-negative number\n",
    "        if gpa >= 0:\n",
    "            self.gpa = gpa\n",
    "        else:\n",
    "            print('gpa cannot be negative')\n",
    "    \n",
    "    # A student can add a course to their courseload\n",
    "    def add_course(self, course, semester, grade):\n",
    "        self._courses_taking.append(course)\n",
    "        self._course_results.append({\n",
    "        \"course\": course.course_name,\n",
    "        \"semester\": semester,\n",
    "        \"grade\": grade\n",
    "        })\n",
    "\n",
    "    # A student can drop a course\n",
    "    def remove_course(self, course):\n",
    "        self._courses_taking.remove(course)\n",
    "        \n",
    "    # A student can get a list of courses they are taking\n",
    "    def get_courses(self):\n",
    "        return self._courses_taking\n",
    "\n",
    "    # A student can get a dict of course grades and semester\n",
    "    def course_results(self):\n",
    "        return self._course_results"
   ]
  },
  {
   "cell_type": "code",
   "execution_count": 20,
   "metadata": {
    "scrolled": true,
    "tags": []
   },
   "outputs": [
    {
     "name": "stdout",
     "output_type": "stream",
     "text": [
      "Hi, Susan Smartinez (ID: 1)(GPA: 3.5)\n"
     ]
    }
   ],
   "source": [
    "# STEP 2: Create a Student object called Susan Smartinez who has an ID of 1, a GPA of 3.5 and is taking ISYS1234\n",
    "# Print out the student's details (ID, first name, last name, GPA)\n",
    "\n",
    "student = Student(1, 'Susan', 'Smartinez', 3.5)\n",
    "student.add_course(isys_1234, 'Fall', 'A')\n",
    "print(f'Hi, {student.first_name} {student.last_name} (ID: {student.get_id()})(GPA: {student.get_gpa()})')"
   ]
  },
  {
   "cell_type": "code",
   "execution_count": 21,
   "metadata": {},
   "outputs": [
    {
     "name": "stdout",
     "output_type": "stream",
     "text": [
      "Course: Introduction to Programming\n",
      "Semester: Fall\n",
      "Grade: A\n",
      "----------\n",
      "Course: Advanced Programming\n",
      "Semester: Spring\n",
      "Grade: A+\n",
      "----------\n"
     ]
    }
   ],
   "source": [
    "# STEP 3a: Add a new course for the student to take (ISYS5713)\n",
    "student.add_course(isys_5713, 'Spring', 'A+')\n",
    "\n",
    "# Iterate over course_results object and print out various course results\n",
    "for results in student.course_results():\n",
    "    print(f\"Course: {results['course']}\")\n",
    "    print(f\"Semester: {results['semester']}\")\n",
    "    print(f\"Grade: {results['grade']}\")\n",
    "    print('----------')"
   ]
  },
  {
   "cell_type": "code",
   "execution_count": 22,
   "metadata": {},
   "outputs": [
    {
     "name": "stdout",
     "output_type": "stream",
     "text": [
      "Introduction to Programming\n",
      "----------\n",
      "ISYS1234\n",
      "This course introduces students to programming\n",
      "\n",
      "Advanced Programming\n",
      "----------\n",
      "ISYS5713\n",
      "This course introduces students to advanced programming\n",
      "\n"
     ]
    }
   ],
   "source": [
    "# Print out the courses the student is taking (include the number, name, description and department)\n",
    "# Iterate over course_results object and print out various course data\n",
    "for course in student.get_courses():\n",
    "    print(course.course_name)\n",
    "    print('----------')\n",
    "    print(f'{course.department}{course.course_number}')\n",
    "    print(course.description)\n",
    "    print()"
   ]
  },
  {
   "cell_type": "code",
   "execution_count": 23,
   "metadata": {},
   "outputs": [
    {
     "name": "stdout",
     "output_type": "stream",
     "text": [
      "Advanced Programming\n",
      "----------\n",
      "ISYS5713\n",
      "This course introduces students to advanced programming\n",
      "\n"
     ]
    }
   ],
   "source": [
    "# STEP 3b: Remove a course for the student to take\n",
    "student.remove_course(isys_1234)\n",
    "# Print out the courses the student is taking (include the number, name, description and department)\n",
    "# Iterate over course_results object and print out various course data\n",
    "for course in student.get_courses():\n",
    "    print(course.course_name)\n",
    "    print('----------')\n",
    "    print(f'{course.department}{course.course_number}')\n",
    "    print(course.description)\n",
    "    print()"
   ]
  },
  {
   "cell_type": "code",
   "execution_count": 24,
   "metadata": {},
   "outputs": [
    {
     "name": "stdout",
     "output_type": "stream",
     "text": [
      "Hi, Susan Smartinez (ID: 1)(GPA: 4.0)\n"
     ]
    }
   ],
   "source": [
    "# STEP 3c: Change the student's GPA to 4.0\n",
    "# Print out the student's details (ID, first name, last name, GPA)\n",
    "student.set_gpa(4.0)\n",
    "print(f'Hi, {student.first_name} {student.last_name} (ID: {student.get_id()})(GPA: {student.get_gpa()})')"
   ]
  },
  {
   "cell_type": "markdown",
   "metadata": {},
   "source": [
    "## Step 4: Create a new class from scratch\n",
    "Now that you have seen how to create a class that inherits from another class, you should create a new class from scratch.  This class should be something that you are familiar with and can easily model in a class.  For instance, you could create a class to model a `Car`, `Animal`, `Book`, etc.  The class should have at least 3 attributes and 3 methods.  You should create an object of this class and demonstrate how to use the methods and access the attributes."
   ]
  },
  {
   "cell_type": "code",
   "execution_count": 33,
   "metadata": {},
   "outputs": [],
   "source": [
    "import random\n",
    "\n",
    "# A Wizard class represents a wizard at the Hogwarts School of Witchcraft and Wizardry\n",
    "# A wizard can also perform actions\n",
    "\n",
    "class Wizard():\n",
    "    # A wizard has a name, is in a house, has a wand type, and health\n",
    "    name = 'no name'\n",
    "    house = 'no house assigned'\n",
    "    wand_type = 'no wand'\n",
    "    health = 100\n",
    "    \n",
    "    def __init__(self, name, house, wand_type):\n",
    "        self.name = name\n",
    "        self.house = house\n",
    "        self.wand_type = wand_type\n",
    "    \n",
    "    # A wizard can challenge another to a duel and/or cast a spell\n",
    "    def cast_spell(self, opponent):\n",
    "        print(f'{self.name} casts spell on {opponent.name}!')\n",
    "        \n",
    "        # Generate random number between 1 and 10. If less than 8, the spell hits the opponent and they lose 20 health. \n",
    "        rn = random.randint(1, 10)\n",
    "        if rn < 8:\n",
    "            if opponent.health == 0:\n",
    "                print(f'{self.name} Wins!')\n",
    "            opponent.health -= 20\n",
    "            print(f'Hit! {opponent.name} now has {opponent.health} remaining')\n",
    "            if opponent.health == 0:\n",
    "                print(f'{self.house} Wins!')\n",
    "        else:\n",
    "            print('It misses epically!')\n",
    "     \n",
    "    # Prompt the user to attack the opponent\n",
    "    def duel(self, opponent):\n",
    "        print(f'{self.name} duels {opponent.name}!')\n",
    "        print('Cast a spell to attack')\n",
    "    \n",
    "    # Get the wizard's name. Perform action based on name\n",
    "    def get_name(self):\n",
    "        if self.name == 'Lord Voldemort':\n",
    "            print('He-who-must-not-be-named')\n",
    "        elif self.name == 'Harry Potter':\n",
    "            print('Mr Potter...Our New...Celebrity')\n",
    "        else:\n",
    "            print(self.name)"
   ]
  },
  {
   "cell_type": "code",
   "execution_count": 34,
   "metadata": {},
   "outputs": [
    {
     "name": "stdout",
     "output_type": "stream",
     "text": [
      "Mr Potter...Our New...Celebrity\n"
     ]
    }
   ],
   "source": [
    "# Create new wizard called Harry Potter and get name\n",
    "wizard1 = Wizard('Harry Potter', 'Hufflepuff', 'Holly Phoenix Feather core')\n",
    "wizard1.get_name()\n",
    "# Create new wizard called Lord Voldemort\n"
   ]
  },
  {
   "cell_type": "code",
   "execution_count": 35,
   "metadata": {},
   "outputs": [
    {
     "name": "stdout",
     "output_type": "stream",
     "text": [
      "He-who-must-not-be-named\n"
     ]
    }
   ],
   "source": [
    "# Create new wizard called Lord Voldemort and get name\n",
    "wizard2 = Wizard('Lord Voldemort', 'Slytherin', ' Yew Phoenix Feather core')\n",
    "wizard2.get_name()"
   ]
  },
  {
   "cell_type": "code",
   "execution_count": 36,
   "metadata": {},
   "outputs": [
    {
     "name": "stdout",
     "output_type": "stream",
     "text": [
      "Harry Potter duels Lord Voldemort!\n",
      "Cast a spell to attack\n"
     ]
    }
   ],
   "source": [
    "# Select a wizard to duel wizard1.duel(wizard2)\n",
    "wizard1.duel(wizard2)"
   ]
  },
  {
   "cell_type": "code",
   "execution_count": 37,
   "metadata": {},
   "outputs": [
    {
     "name": "stdout",
     "output_type": "stream",
     "text": [
      "Harry Potter casts spell on Lord Voldemort!\n",
      "It misses epically!\n"
     ]
    }
   ],
   "source": [
    "# Cast spell on selected opponent\n",
    "wizard1.cast_spell(wizard2)"
   ]
  },
  {
   "cell_type": "code",
   "execution_count": 38,
   "metadata": {},
   "outputs": [
    {
     "name": "stdout",
     "output_type": "stream",
     "text": [
      "Harry Potter casts spell on Lord Voldemort!\n",
      "It misses epically!\n",
      "Harry Potter casts spell on Lord Voldemort!\n",
      "Hit! Lord Voldemort now has 80 remaining\n",
      "Harry Potter casts spell on Lord Voldemort!\n",
      "Hit! Lord Voldemort now has 60 remaining\n",
      "Harry Potter casts spell on Lord Voldemort!\n",
      "Hit! Lord Voldemort now has 40 remaining\n",
      "Harry Potter casts spell on Lord Voldemort!\n",
      "It misses epically!\n",
      "Harry Potter casts spell on Lord Voldemort!\n",
      "Hit! Lord Voldemort now has 20 remaining\n",
      "Harry Potter casts spell on Lord Voldemort!\n",
      "Hit! Lord Voldemort now has 0 remaining\n",
      "Hufflepuff Wins!\n"
     ]
    }
   ],
   "source": [
    "# Keep attacking opponent until their health is 0\n",
    "while wizard2.health != 0:\n",
    "    wizard1.cast_spell(wizard2)"
   ]
  }
 ],
 "metadata": {
  "kernelspec": {
   "display_name": "Python 3 (ipykernel)",
   "language": "python",
   "name": "python3"
  },
  "language_info": {
   "codemirror_mode": {
    "name": "ipython",
    "version": 3
   },
   "file_extension": ".py",
   "mimetype": "text/x-python",
   "name": "python",
   "nbconvert_exporter": "python",
   "pygments_lexer": "ipython3",
   "version": "3.12.4"
  }
 },
 "nbformat": 4,
 "nbformat_minor": 4
}
